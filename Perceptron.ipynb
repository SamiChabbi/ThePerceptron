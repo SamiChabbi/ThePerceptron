{
 "cells": [
  {
   "cell_type": "markdown",
   "id": "b5a194b9",
   "metadata": {},
   "source": [
    "# The Perceptron"
   ]
  },
  {
   "cell_type": "code",
   "execution_count": 4,
   "id": "f1f82c57",
   "metadata": {},
   "outputs": [],
   "source": [
    "import numpy as np\n",
    "import scipy \n",
    "import  matplotlib.pyplot as plt \n",
    "import h5py \n",
    "from PIL import Image\n",
    "from scipy import ndimage"
   ]
  },
  {
   "cell_type": "markdown",
   "id": "8745aa2d",
   "metadata": {},
   "source": [
    "## Importing cat's dataset :"
   ]
  },
  {
   "cell_type": "code",
   "execution_count": 5,
   "id": "6d8e2412",
   "metadata": {},
   "outputs": [],
   "source": [
    "def load_dataset():\n",
    "    with h5py.File('datasets/train_catvnoncat.h5', \"r\") as train_dataset:\n",
    "        train_set_x_orig = np.array(train_dataset[\"train_set_x\"][:])\n",
    "        train_set_y_orig = np.array(train_dataset[\"train_set_y\"][:])\n",
    "\n",
    "    with h5py.File('datasets/test_catvnoncat.h5', \"r\") as test_dataset:\n",
    "        test_set_x_orig = np.array(test_dataset[\"test_set_x\"][:])\n",
    "        test_set_y_orig = np.array(test_dataset[\"test_set_y\"][:])\n",
    "        classes = np.array(test_dataset[\"list_classes\"][:])\n",
    "\n",
    "    train_set_y_orig = train_set_y_orig.reshape((1, train_set_y_orig.shape[0]))\n",
    "    test_set_y_orig = test_set_y_orig.reshape((1, test_set_y_orig.shape[0]))\n",
    "\n",
    "    return train_set_x_orig, train_set_y_orig, test_set_x_orig, test_set_y_orig, classes "
   ]
  },
  {
   "cell_type": "code",
   "execution_count": 6,
   "id": "dc5f7dc8",
   "metadata": {},
   "outputs": [],
   "source": [
    "\n",
    "x_train, y_train, x_test, y_test, classes = load_dataset()"
   ]
  },
  {
   "cell_type": "markdown",
   "id": "eddaa97d",
   "metadata": {},
   "source": [
    "### Printing informations about the dataset :"
   ]
  },
  {
   "cell_type": "code",
   "execution_count": 7,
   "id": "3406015c",
   "metadata": {},
   "outputs": [
    {
     "name": "stdout",
     "output_type": "stream",
     "text": [
      "Size of the training dataset :  (1, 209)\n",
      "Size of the testing dataset :  (1, 50)\n",
      "Size of the image :  (64, 64, 3)\n",
      "shape of training dataset :  (209, 64, 64, 3)\n"
     ]
    }
   ],
   "source": [
    "print(\"Size of the training dataset : \",y_train.shape)\n",
    "print(\"Size of the testing dataset : \",y_test.shape)\n",
    "print(\"Size of the image : \",x_train[0].shape)\n",
    "print(\"shape of training dataset : \",x_train.shape)\n"
   ]
  },
  {
   "cell_type": "markdown",
   "id": "20a74700",
   "metadata": {},
   "source": [
    "NB: The size of the image is 64/64 px but there is a third dimention of shape 3 \n",
    "this is because the image is composed of three layers: a red layer, a blue layer, and a green layer (RGB).Each value in each layer is between 0 and 255, "
   ]
  },
  {
   "cell_type": "markdown",
   "id": "20f13d74",
   "metadata": {},
   "source": [
    "## flatening images :\n",
    "to be able to feed our algorithm with images, we need to flatten each of our image into a  vector, we will use the reshape function for this \\\n",
    "reshape take the new shape and return new shaped array \\\n",
    "in our case the initial shape is (209, 64, 64, 3)\n",
    "which can be decomposed into 2 parts\n",
    "- 209 : the number of images \n",
    "- 64, 64, 3 : dimensions of each image of our dataset \n",
    "the second part will be the part conserned by the flattening thats why we will use the reshape as follow :\n",
    "> `flat_x_train = x_train.reshape(x_train.shape[0], -1)`\n",
    "\n",
    "- The first argument we gave to reshape is `x_train.shape[0]` witch is 209, the number of images, the part of the initial shape that we want to keep \n",
    "- The segon argument is `-1` whitch indicate to the function to put the rest in one shape part \\\n",
    "which give to our new dataset the shape of \n",
    "(209, 12288) "
   ]
  },
  {
   "cell_type": "code",
   "execution_count": 8,
   "id": "f9e1c521",
   "metadata": {},
   "outputs": [
    {
     "name": "stdout",
     "output_type": "stream",
     "text": [
      "flat_x_train.shape (209, 12288)\n",
      "flat_x_test.shape (50, 12288)\n"
     ]
    }
   ],
   "source": [
    "#plt.imshow(x_train[11])\n",
    "img = x_train[11]\n",
    "x_train.shape\n",
    "flat_x_train = x_train.reshape(x_train.shape[0], -1)\n",
    "flat_x_test = x_test.reshape(x_test.shape[0], -1)\n",
    "\n",
    "print(\"flat_x_train.shape\", flat_x_train.shape)\n",
    "print(\"flat_x_test.shape\", flat_x_test.shape)"
   ]
  },
  {
   "cell_type": "markdown",
   "id": "f2ec1a37",
   "metadata": {},
   "source": [
    "## Standardisation:\n",
    "we divide the pixels values of flattened images by the maximum value a pixel can have to let them values fluctuate between 0 and 1\n"
   ]
  },
  {
   "cell_type": "code",
   "execution_count": 9,
   "id": "c34390ee",
   "metadata": {},
   "outputs": [],
   "source": [
    "train_set_x = flat_x_train / 255\n",
    "test_set_x = flat_x_test / 255"
   ]
  },
  {
   "cell_type": "markdown",
   "id": "d7b79c50",
   "metadata": {},
   "source": [
    "## Activation function :\n",
    "as our problem is a problem of classification we choose the sigmoid function :\n",
    "$$y=\\frac{1}{1+e^{-z}}$$\n",
    "\n",
    "z is a liear function :\n",
    "$$ z = x_1.w_1+x_2.w_2 + b $$\n",
    "this function plot a line named desition bondary this line split cases on 2 cathegories\n",
    "- positif cases z > 0 \n",
    "- negative case z < 0 \\  \n",
    "we put this function on a segmoid because we need to deal with probabilities\n",
    "with this setting :\n",
    "- when z tends to +inf y tends to 1\n",
    "- when z tends to -inf y tends to 0\n",
    "- when z tends to 0 y tends to 0.5 which will be our threshold to decide between the cases \\\n",
    "<img src=\"img/y.png\">\n"
   ]
  },
  {
   "cell_type": "markdown",
   "id": "35473483",
   "metadata": {},
   "source": [
    "### let's define it :"
   ]
  },
  {
   "cell_type": "code",
   "execution_count": 10,
   "id": "e5482c3e",
   "metadata": {},
   "outputs": [],
   "source": [
    "def sigmoid(z):\n",
    "   return 1 / (1 + np.exp(-z))\n",
    "\n",
    "def linear_function(X, W, b):\n",
    "    linear_y_hat = np.dot(X , W) + b\n",
    "    return linear_y_hat\n",
    "\n",
    "def init_with_zero(dim):\n",
    "    W = np.zeros((dim, 1))\n",
    "    b = 0\n",
    "    return W, b"
   ]
  },
  {
   "cell_type": "markdown",
   "id": "ab031d20",
   "metadata": {},
   "source": [
    "## Cost function :"
   ]
  },
  {
   "cell_type": "markdown",
   "id": "03b3c013",
   "metadata": {},
   "source": [
    "#### Theori :\n",
    "The main purpuse of the cost function is to penalize our algorithm when the prediction $\\hat{y}$ is diferent from the y of the dataset\n",
    "- if $y = 0$ the result of our cost function shoul be bigger when $\\hat{y}$ approaches 1\n",
    "- if $y = 1$ the result of our cost function shoul be bigger when $\\hat{y}$ approaches 0\n",
    "\n",
    "we will use the property of the exponential base logarithm function \n",
    "\n",
    "- if $y = 0$ we use $$-\\log{(\\hat{y})}$$this function will approches to $+\\infty$ when $\\hat{y}$ approches 1 and 0 when $\\hat{y}$ approches 0\n",
    "\n",
    "- if $y = 1$ we use $$-\\log{(1-\\hat{y})}$$, this function will approches to $+\\infty$ when $\\hat{y}$ approches 0 and 0 when $\\hat{y}$ approches 1\n",
    "#### Pythonic demonstration :\n",
    "please look at the file ./demo/the_cost_evolution.py for pythonic demonstration of the plots below\n",
    "<img src=\"img/the_cost_evolution.png\">"
   ]
  },
  {
   "cell_type": "markdown",
   "id": "2860e885",
   "metadata": {},
   "source": [
    "This function:\n",
    "$$ -y_i\\log{\\hat{y}}-(1 - y_i)\\log{(1 - \\hat{y}_i)}$$\n",
    "is the combination of the 2 functions that we have seen before because\n",
    "- if y = 1 this function become : \n",
    "$$-\\log{(\\hat{y})}$$ \n",
    "- then if y = 0 it become $$-\\log{(1-\\hat{y})}$$\n",
    "when y and $\\hat{y}$ are different this function will tend to +$\\infty$ when they are not the function tend to 0 \n",
    "so this is the perfect setting to maximise cost when y and $\\hat{y}$ are different\n",
    "as the cost function should be the avrage of all costs, the function become :\n",
    "$$J = - \\frac{1}{m} \\sum_{i = 1}^{m} y_i\\log{\\hat{y}_i}+(1 - y_i)\\log{(1 - \\hat{y}_i)}$$\n",
    "- <em>m is the size of the dataset</em>\n",
    "<img src=\"img/logloss_plot.png\">\n"
   ]
  },
  {
   "cell_type": "markdown",
   "id": "1bb7cf53",
   "metadata": {},
   "source": [
    "## Gradient descent\n",
    "The idea of gradient descent is to iterate a function that will update each time our parameters until we get the best model that matches our dataset\n",
    "the function of the gradient descent will be almost the same as for linear regression:\n",
    "$$ \\theta_j = \\theta_j - \\alpha . \\frac{\\partial J}{\\partial \\theta_j} $$\n",
    "- $j$ is iteration index over epoch\n",
    "- epoch is times the algorithm will iterate \n",
    "- $\\alpha$ is the learning rates\n",
    "- $\\frac{\\partial J}{\\partial \\theta_j}$ : derivative of the cost function \n",
    "<p>\n",
    "the derivative give us the slope of a function :\n",
    "- if the sign of the derivative is negative it mean that we have a downward slope\n",
    "- if the sign of the derivative is positive it mean that we have a a rising slope\n",
    "<p>knowing that the logloss is a convex function (as we can see in the plot), if we need to find its minimum we will need to move forward if the sign of the derivative is negative (because we are in downslope) and backwards if the sign is positive (because we are in upslope)</p></p>\n",
    "\n",
    "\n",
    "##### NB:  this must be done on all of our parameters $(w_1, w_2 ... w_n, b)$ separately and simultaneously for each epoch all parameters must be updated !!!\n",
    "this is what the derivative of the cost function with respect to each of our parameters give us :\n",
    "\n",
    "<img src=\"img/dw_db.png\">\n",
    "\n",
    "\n",
    "### NB remember that our linear function is $ z = x_1.w_1+x_2.w_2 + b $\n",
    "\n",
    "- $a_i$ is the prediction $\\hat{y}$ on the i'th value of our dataset it is the result of our model on the i'th example on our dataset \n",
    "- $m$ isthe size of the dataset\n",
    "- $y_i$ the observation on the i'th value of our dataset\n",
    "\n",
    "more explanation on the derivatives on this link :\n",
    "https://www.youtube.com/watch?v=GzphoJOVEcE&list=PLkDaE6sCZn6Ec-XTbcX1uRg2_u4xOEky0&index=11"
   ]
  },
  {
   "cell_type": "markdown",
   "id": "284bf894",
   "metadata": {},
   "source": [
    "## Vectorisation\n",
    "Vectorisation is the step betwin theori and practice we need to convert all of our mathematic equation to vector for optimise the execution\n",
    "#### Linear function vectorisation :\n",
    "<img src=\"img/lfv.png\">\n",
    "\n",
    "#### Sigmoid vectorisation :\n",
    "<img src=\"img/sv_1.png\">\n",
    "<img src=\"img/sv_2.png\">\n",
    "\n",
    "\n",
    "####  Cost function Vectorisation:\n",
    "##### NB the multiplications contained in the cost function is not a matrix multiplication it is a simple row-by-row multiplication\n",
    "\n",
    "<img src=\"img/cost_fn_vectorisation.png\">\n",
    "\n",
    "\n",
    "####  Gradient Vectorisation:\n",
    "##### NB : X have to be transposed \n",
    "\n",
    "<img src=\"img/vectorisation_derivative.png\">\n",
    "\n",
    "##### so our formulas for Gradient Vectorisation become : \n",
    "$$\\frac{\\partial{L}}{\\partial{W}} = \\frac{1}{m} X^T . (\\hat{Y} - Y)$$\n",
    "\n",
    "and for the derivative at b vectorisation :\n",
    "\n",
    "$$\\frac{\\partial{L}}{\\partial{b}} = \\frac{1}{m} \\sum{(\\hat{Y} - Y)}$$"
   ]
  },
  {
   "cell_type": "markdown",
   "id": "d28f6b56",
   "metadata": {},
   "source": [
    "## Forward and backward  forward propagation:\n",
    "Those are the next steps in our project \n",
    "The forward propagation is the first step.\n",
    "We test our parameters with training data to see the cost through the cost function "
   ]
  },
  {
   "cell_type": "markdown",
   "id": "47f9e63b",
   "metadata": {},
   "source": [
    "### forward propagation :\n",
    "We test our parameters with training data to see the cost through the cost function "
   ]
  },
  {
   "cell_type": "code",
   "execution_count": 11,
   "id": "e890d5d2",
   "metadata": {},
   "outputs": [],
   "source": [
    "def forward_propagation(X, Y, W, b):#ddd\n",
    "    Z =linear_function(X, W, b)\n",
    "    Y_hat = sigmoid(Z)\n",
    "    m = X.shape[1]\n",
    "    cost = - 1/m * np.sum(Y * np.log(Y_hat) + (1 - Y) * np.log(1 - Y_hat))\n",
    "    return cost , Y_hat"
   ]
  },
  {
   "cell_type": "markdown",
   "id": "5e246bc5",
   "metadata": {},
   "source": [
    "### Backward propagation :\n",
    "Then the backward propagation is when we apply the principle of the gradian decent to minimise our cost function the function below will be called in a loop to update each time weights and bias\n"
   ]
  },
  {
   "cell_type": "code",
   "execution_count": 12,
   "id": "01242af6",
   "metadata": {},
   "outputs": [],
   "source": [
    "\n",
    "def back_propagation(W, b, Y, Y_hat, X):\n",
    "    m = X.shape[1]\n",
    "    d_W = 1/m *(np.dot(X.T,(Y_hat - Y)))\n",
    "    d_b = 1/m * np.sum(Y_hat - Y)\n",
    "    n_W = W - learning_rate * d_W\n",
    "    n_b = b - learning_rate * d_b\n",
    "    return n_W, n_b\n"
   ]
  },
  {
   "cell_type": "markdown",
   "id": "e4eb5daf",
   "metadata": {},
   "source": [
    "### One last detail befor runing the algorithm\n",
    "The 'y' that comes from the dataset is of the shape (1, m) to make it fit our equations and avoid matrix product error, its shape should become (m, 1)"
   ]
  },
  {
   "cell_type": "code",
   "execution_count": 13,
   "id": "0546f6d5",
   "metadata": {},
   "outputs": [],
   "source": [
    "y_test = y_test.T\n",
    "y_train = y_train.T\n"
   ]
  },
  {
   "cell_type": "markdown",
   "id": "12e02749",
   "metadata": {},
   "source": [
    "## Lets run the algorithme"
   ]
  },
  {
   "cell_type": "code",
   "execution_count": 14,
   "id": "e4027b7d",
   "metadata": {
    "scrolled": true
   },
   "outputs": [
    {
     "name": "stdout",
     "output_type": "stream",
     "text": [
      "++++++++++++++++++++++++++++\n",
      "cost :  0.0014176399043640373\n",
      "w :  [[ 0.01278891]\n",
      " [-0.0346842 ]\n",
      " [-0.01564346]\n",
      " ...\n",
      " [-0.01461369]\n",
      " [-0.036869  ]\n",
      " [ 0.0320314 ]]\n",
      "b :  -0.007019054521018076\n"
     ]
    },
    {
     "data": {
      "image/png": "[encoded data removed]",
      "text/plain": [
       "<Figure size 640x480 with 1 Axes>"
      ]
     },
     "metadata": {},
     "output_type": "display_data"
    }
   ],
   "source": [
    "epoch = 2000\n",
    "learning_rate = 0.5\n",
    "X = train_set_x\n",
    "Y = y_train\n",
    "W, b = init_with_zero(X.shape[1])\n",
    "\n",
    "costs = []\n",
    "for i in range(epoch):\n",
    "    cost, Y_hat = forward_propagation(X, Y, W, b)\n",
    "    costs.append(cost)\n",
    "    W, b = back_propagation(W, b, Y, Y_hat, X)\n",
    "\n",
    "print(\"++++++++++++++++++++++++++++\")\n",
    "print(\"cost : \",cost)\n",
    "#print(\"costs : \",costs)\n",
    "print(\"w : \",W)\n",
    "print(\"b : \",b)\n",
    "\n",
    "plt.plot(costs, np.linspace(0,len(costs) - 1,len(costs)))\n",
    "plt.show()"
   ]
  },
  {
   "cell_type": "code",
   "execution_count": 15,
   "id": "f45923b6",
   "metadata": {},
   "outputs": [
    {
     "name": "stdout",
     "output_type": "stream",
     "text": [
      "w.shape :  (12288, 1)\n",
      "X.shape :  (209, 12288)\n"
     ]
    }
   ],
   "source": [
    "print(\"w.shape : \",W.shape)\n",
    "print(\"X.shape : \",train_set_x.shape)"
   ]
  },
  {
   "cell_type": "markdown",
   "id": "32e03abe",
   "metadata": {},
   "source": [
    "## Prediction "
   ]
  },
  {
   "cell_type": "code",
   "execution_count": 16,
   "id": "3d4990d1",
   "metadata": {},
   "outputs": [
    {
     "name": "stdout",
     "output_type": "stream",
     "text": [
      "correct_prediction_tab :  50\n",
      "correct_prediction_count :  35\n",
      "correct prediction percentage :  70.0\n"
     ]
    }
   ],
   "source": [
    "\n",
    "X = test_set_x\n",
    "Z =linear_function(X, W, b)\n",
    "Y_hat = sigmoid(Z)\n",
    "correct_prediction_tab = (Y_hat > 0.5) == y_test\n",
    "correct_prediction_count = np.count_nonzero(correct_prediction_tab == True)\n",
    "percentage = (correct_prediction_count * 100)/ correct_prediction_tab.size\n",
    "print(\"correct_prediction_tab : \",correct_prediction_tab.size)\n",
    "print(\"correct_prediction_count : \",correct_prediction_count)\n",
    "print(\"correct prediction percentage : \",percentage)"
   ]
  },
  {
   "cell_type": "code",
   "execution_count": 17,
   "id": "3be0fb7c",
   "metadata": {},
   "outputs": [
    {
     "name": "stdout",
     "output_type": "stream",
     "text": [
      "++++++++++++++++++++++++++++\n",
      "y_hat : [0.91749744]\n",
      "y  [1]\n"
     ]
    },
    {
     "data": {
      "image/png": "[encoded data removed]",
      "text/plain": [
       "<Figure size 640x480 with 1 Axes>"
      ]
     },
     "metadata": {},
     "output_type": "display_data"
    }
   ],
   "source": [
    "i = 1\n",
    "X = test_set_x[i]\n",
    "z =linear_function(X, W, b)\n",
    "y_hat = sigmoid(z)\n",
    "print(\"++++++++++++++++++++++++++++\")\n",
    "print(\"y_hat :\",y_hat)\n",
    "print(\"y \",y_test[i])\n",
    "from PIL import Image\n",
    "plt.imshow(x_test[i])\n",
    "plt.show()"
   ]
  }
 ],
 "metadata": {
  "kernelspec": {
   "display_name": "Python 3",
   "language": "python",
   "name": "python3"
  },
  "language_info": {
   "codemirror_mode": {
    "name": "ipython",
    "version": 3
   },
   "file_extension": ".py",
   "mimetype": "text/x-python",
   "name": "python",
   "nbconvert_exporter": "python",
   "pygments_lexer": "ipython3",
   "version": "3.10.12"
  }
 },
 "nbformat": 4,
 "nbformat_minor": 5
}
